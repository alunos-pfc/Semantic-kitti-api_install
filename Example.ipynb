{
 "cells": [
  {
   "cell_type": "code",
   "execution_count": 1,
   "id": "e446fe8c-c968-4c70-ae85-bf7693925f5a",
   "metadata": {},
   "outputs": [],
   "source": [
    "import os\n",
    "import numpy as np\n",
    "import matplotlib.pyplot as plt\n",
    "from auxiliary.laserscan import LaserScan, SemLaserScan\n",
    "from auxiliary.laserscanvis import LaserScanVis"
   ]
  },
  {
   "cell_type": "markdown",
   "id": "6ff926e8-21dc-4198-95d0-5bc5331758e1",
   "metadata": {},
   "source": [
    "# Getting the data"
   ]
  },
  {
   "cell_type": "code",
   "execution_count": 2,
   "id": "480e3e28-e11c-4f22-8652-115a86c689f8",
   "metadata": {},
   "outputs": [],
   "source": [
    "def visualize_spherical_projection(spherical_projection):\n",
    "    plt.imshow(spherical_projection, cmap='viridis')\n",
    "    plt.title('2D Spherical Projection ')\n",
    "    plt.savefig(\"Projeção_Esférica_2D.png\", dpi=1200)\n",
    "    plt.show()"
   ]
  },
  {
   "cell_type": "code",
   "execution_count": 5,
   "id": "033cc630-bb07-471b-8357-7cb2ea581ed6",
   "metadata": {},
   "outputs": [],
   "source": [
    "sequence_path = \"/mnt/c/Users/MSI/Desktop/Semantic-KITTI/dataset\"\n",
    "sequence_number = \"04\""
   ]
  },
  {
   "cell_type": "code",
   "execution_count": 6,
   "id": "2da0c37e-4de3-4084-91de-018e08c9dc1d",
   "metadata": {},
   "outputs": [],
   "source": [
    "scan_paths = os.path.join(sequence_path, \"sequences\", sequence_number, \"velodyne\")\n",
    "\n",
    "scan_names = [os.path.join(dp, f) for dp, dn, fn in os.walk(os.path.expanduser(scan_paths)) for f in fn]\n",
    "\n",
    "scan_names.sort()"
   ]
  },
  {
   "cell_type": "code",
   "execution_count": 7,
   "id": "dc35c4d5-c0e8-4fc1-940d-52a8d8c9858c",
   "metadata": {},
   "outputs": [],
   "source": [
    "label_paths = os.path.join(sequence_path, \"sequences\", sequence_number, \"labels\")\n",
    "\n",
    "label_names = [os.path.join(dp, f) for dp, dn, fn in os.walk(os.path.expanduser(label_paths)) for f in fn]\n",
    "\n",
    "label_names.sort()"
   ]
  },
  {
   "cell_type": "markdown",
   "id": "18616953-3633-4a6f-a5d6-43133c04ff08",
   "metadata": {
    "jp-MarkdownHeadingCollapsed": true
   },
   "source": [
    "# Dicts"
   ]
  },
  {
   "cell_type": "code",
   "execution_count": 8,
   "id": "890c6221-8456-476a-ae75-9a0e8b5358e1",
   "metadata": {},
   "outputs": [],
   "source": [
    "color_dict = {\n",
    "    0: [0, 0, 0],\n",
    "    1: [0, 0, 255],\n",
    "    10: [245, 150, 100],\n",
    "    11: [245, 230, 100],\n",
    "    13: [250, 80, 100],\n",
    "    15: [150, 60, 30],\n",
    "    16: [255, 0, 0],\n",
    "    18: [180, 30, 80],\n",
    "    20: [255, 0, 0],\n",
    "    30: [30, 30, 255],\n",
    "    31: [200, 40, 255],\n",
    "    32: [90, 30, 150],\n",
    "    40: [255, 0, 255],\n",
    "    44: [255, 150, 255],\n",
    "    48: [75, 0, 75],\n",
    "    49: [75, 0, 175],\n",
    "    50: [0, 200, 255],\n",
    "    51: [50, 120, 255],\n",
    "    52: [0, 150, 255],\n",
    "    60: [170, 255, 150],\n",
    "    70: [0, 175, 0],\n",
    "    71: [0, 60, 135],\n",
    "    72: [80, 240, 150],\n",
    "    80: [150, 240, 255],\n",
    "    81: [0, 0, 255],\n",
    "    99: [255, 255, 50],\n",
    "    252: [245, 150, 100],\n",
    "    256: [255, 0, 0],\n",
    "    253: [200, 40, 255],\n",
    "    254: [30, 30, 255],\n",
    "    255: [90, 30, 150],\n",
    "    257: [250, 80, 100],\n",
    "    258: [180, 30, 80],\n",
    "    259: [255, 0, 0]\n",
    "}"
   ]
  },
  {
   "cell_type": "code",
   "execution_count": 11,
   "id": "48b46e51-3ce1-4816-8e02-063e6a62839f",
   "metadata": {},
   "outputs": [],
   "source": [
    "learning_map_inv = {\n",
    "    0: 0,      # \"unlabeled\", and others ignored\n",
    "    1: 10,     # \"car\"\n",
    "    2: 11,     # \"bicycle\"\n",
    "    3: 15,     # \"motorcycle\"\n",
    "    4: 18,     # \"truck\"\n",
    "    5: 20,     # \"other-vehicle\"\n",
    "    6: 30,     # \"person\"\n",
    "    7: 31,     # \"bicyclist\"\n",
    "    8: 32,     # \"motorcyclist\"\n",
    "    9: 40,     # \"road\"\n",
    "    10: 44,    # \"parking\"\n",
    "    11: 48,    # \"sidewalk\"\n",
    "    12: 49,    # \"other-ground\"\n",
    "    13: 50,    # \"building\"\n",
    "    14: 51,    # \"fence\"\n",
    "    15: 70,    # \"vegetation\"\n",
    "    16: 71,    # \"trunk\"\n",
    "    17: 72,    # \"terrain\"\n",
    "    18: 80,    # \"pole\"\n",
    "    19: 81     # \"traffic-sign\"\n",
    "}"
   ]
  },
  {
   "cell_type": "code",
   "execution_count": 10,
   "id": "d8f552a9-03ef-4e1f-ac9d-adee197b6227",
   "metadata": {},
   "outputs": [],
   "source": [
    "learning_map = {\n",
    "    0: 0,     # \"unlabeled\"\n",
    "    1: 0,     # \"outlier\" mapped to \"unlabeled\" --------------------------mapped\n",
    "    10: 1,    # \"car\"\n",
    "    11: 2,    # \"bicycle\"\n",
    "    13: 5,    # \"bus\" mapped to \"other-vehicle\" --------------------------mapped\n",
    "    15: 3,    # \"motorcycle\"\n",
    "    16: 5,    # \"on-rails\" mapped to \"other-vehicle\" ---------------------mapped\n",
    "    18: 4,    # \"truck\"\n",
    "    20: 5,    # \"other-vehicle\"\n",
    "    30: 6,    # \"person\"\n",
    "    31: 7,    # \"bicyclist\"\n",
    "    32: 8,    # \"motorcyclist\"\n",
    "    40: 9,    # \"road\"\n",
    "    44: 10,   # \"parking\"\n",
    "    48: 11,   # \"sidewalk\"\n",
    "    49: 12,   # \"other-ground\"\n",
    "    50: 13,   # \"building\"\n",
    "    51: 14,   # \"fence\"\n",
    "    52: 0,    # \"other-structure\" mapped to \"unlabeled\" ------------------mapped\n",
    "    60: 9,    # \"lane-marking\" to \"road\" ---------------------------------mapped\n",
    "    70: 15,   # \"vegetation\"\n",
    "    71: 16,   # \"trunk\"\n",
    "    72: 17,   # \"terrain\"\n",
    "    80: 18,   # \"pole\"\n",
    "    81: 19,   # \"traffic-sign\"\n",
    "    99: 0,    # \"other-object\" to \"unlabeled\" ----------------------------mapped\n",
    "    252: 1,   # \"moving-car\" to \"car\" ------------------------------------mapped\n",
    "    253: 7,   # \"moving-bicyclist\" to \"bicyclist\" ------------------------mapped\n",
    "    254: 6,   # \"moving-person\" to \"person\" ------------------------------mapped\n",
    "    255: 8,   # \"moving-motorcyclist\" to \"motorcyclist\" ------------------mapped\n",
    "    256: 5,   # \"moving-on-rails\" mapped to \"other-vehicle\" --------------mapped\n",
    "    257: 5,   # \"moving-bus\" mapped to \"other-vehicle\" -------------------mapped\n",
    "    258: 4,   # \"moving-truck\" to \"truck\" --------------------------------mapped\n",
    "    259: 5    # \"moving-other\"-vehicle to \"other-vehicle\" ----------------mapped\n",
    "}"
   ]
  },
  {
   "cell_type": "markdown",
   "id": "b6b67103-8bce-4440-9b68-b94666b9731e",
   "metadata": {},
   "source": [
    "# Spherical projection"
   ]
  },
  {
   "cell_type": "code",
   "execution_count": 14,
   "id": "f2598f70-c4b6-47fd-b1d5-35a83aa9fa91",
   "metadata": {},
   "outputs": [
    {
     "data": {
      "application/vnd.jupyter.widget-view+json": {
       "model_id": "f76e21272ebe4ae5b9e46e506d49e74b",
       "version_major": 2,
       "version_minor": 0
      },
      "text/plain": [
       "RFBOutputContext()"
      ]
     },
     "metadata": {},
     "output_type": "display_data"
    },
    {
     "name": "stdout",
     "output_type": "stream",
     "text": [
      "Using semantics in visualizer\n"
     ]
    },
    {
     "data": {
      "application/vnd.jupyter.widget-view+json": {
       "model_id": "b9cde1f51520490f829cdcef522eacad",
       "version_major": 2,
       "version_minor": 0
      },
      "text/plain": [
       "RFBOutputContext()"
      ]
     },
     "metadata": {},
     "output_type": "display_data"
    },
    {
     "data": {
      "application/vnd.jupyter.widget-view+json": {
       "model_id": "3c83e6457aa9422481119be00e84f33f",
       "version_major": 2,
       "version_minor": 0
      },
      "text/plain": [
       "RFBOutputContext()"
      ]
     },
     "metadata": {},
     "output_type": "display_data"
    },
    {
     "data": {
      "application/vnd.jupyter.widget-view+json": {
       "model_id": "841d07fbb06e4aff9df6772dc6498a2e",
       "version_major": 2,
       "version_minor": 0
      },
      "text/plain": [
       "RFBOutputContext()"
      ]
     },
     "metadata": {},
     "output_type": "display_data"
    }
   ],
   "source": [
    "color_dict = {key:color_dict[learning_map_inv[learning_map[key]]] for key, value in color_dict.items()}\n",
    "sem_scan = SemLaserScan(color_dict, project=True)\n",
    "scan = LaserScan(project=True)\n",
    "sem_vis = LaserScanVis(scan=sem_scan,\n",
    "                     scan_names=scan_names,\n",
    "                     label_names=label_names,\n",
    "                     offset=0,\n",
    "                     semantics=True, instances=False and semantics, images=True, link=None)\n",
    "vis = LaserScanVis(scan=scan,\n",
    "                     scan_names=scan_names,\n",
    "                     label_names=None,\n",
    "                     offset=0,\n",
    "                     semantics=False, instances=False and semantics, images=True, link=None)"
   ]
  },
  {
   "cell_type": "markdown",
   "id": "06e8fd14-1dcd-45ef-a7e7-ecebd0b675fa",
   "metadata": {},
   "source": [
    "## With semantics"
   ]
  },
  {
   "cell_type": "code",
   "execution_count": 16,
   "id": "7586fc2e-371e-41b8-a5f3-92c830fb43b3",
   "metadata": {},
   "outputs": [
    {
     "data": {
      "image/png": "[encoded data removed]",
      "text/plain": [
       "<Figure size 640x480 with 1 Axes>"
      ]
     },
     "metadata": {},
     "output_type": "display_data"
    }
   ],
   "source": [
    "visualize_spherical_projection(sem_scan.proj_sem_color)"
   ]
  },
  {
   "cell_type": "markdown",
   "id": "f5565004-12f5-4334-b8f1-bd1e9e855648",
   "metadata": {},
   "source": [
    "## Without"
   ]
  },
  {
   "cell_type": "code",
   "execution_count": 17,
   "id": "4ffa6c5a-096d-44f8-a92d-3d809bdc429c",
   "metadata": {},
   "outputs": [
    {
     "data": {
      "image/png": "[encoded data removed]",
      "text/plain": [
       "<Figure size 640x480 with 1 Axes>"
      ]
     },
     "metadata": {},
     "output_type": "display_data"
    }
   ],
   "source": [
    "visualize_spherical_projection(scan.proj_range)"
   ]
  }
 ],
 "metadata": {
  "kernelspec": {
   "display_name": "Python 3 (ipykernel)",
   "language": "python",
   "name": "python3"
  },
  "language_info": {
   "codemirror_mode": {
    "name": "ipython",
    "version": 3
   },
   "file_extension": ".py",
   "mimetype": "text/x-python",
   "name": "python",
   "nbconvert_exporter": "python",
   "pygments_lexer": "ipython3",
   "version": "3.10.12"
  }
 },
 "nbformat": 4,
 "nbformat_minor": 5
}
